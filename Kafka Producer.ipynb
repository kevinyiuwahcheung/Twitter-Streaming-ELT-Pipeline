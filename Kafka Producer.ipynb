{
 "cells": [
  {
   "cell_type": "code",
   "execution_count": null,
   "metadata": {},
   "outputs": [],
   "source": [
    "from confluent_kafka import Producer, KafkaError\n",
    "import json\n",
    "import ccloud_lib\n",
    "import tweepy\n",
    "import json\n",
    "import socket"
   ]
  },
  {
   "cell_type": "code",
   "execution_count": null,
   "metadata": {},
   "outputs": [],
   "source": [
    "consumer_key    = \"\"\n",
    "consumer_secret = \"\"\n",
    "access_token    = \"\"\n",
    "access_token_secret   = \"\"\n",
    "bearer_token = \"\""
   ]
  },
  {
   "cell_type": "code",
   "execution_count": null,
   "metadata": {},
   "outputs": [],
   "source": [
    "class MyListener(tweepy.Stream):    \n",
    "    \n",
    "    # Callback function from kafka producer\n",
    "    def acked(self,err, msg):\n",
    "        if err is not None:\n",
    "            print(\"Error = {}\".format(err))\n",
    "        else:\n",
    "            print(f\"Produced record to topic {msg.topic()} partition {msg.partition()} offset {msg.offset()}\")\n",
    "    \n",
    "    \n",
    "    def startKafkaProducer(self):\n",
    "        config_file = 'path to your producer config file'\n",
    "        conf = ccloud_lib.read_ccloud_config(config_file)\n",
    "        \n",
    "        # Create Producer instance\n",
    "        producer_conf = ccloud_lib.pop_schema_registry_params_from_config(conf)\n",
    "        producer_conf['acks']=\"all\"\n",
    "        self.producer = Producer(producer_conf)\n",
    "    \n",
    "    \n",
    "    # Each time MyListener receives a tweet, it decodes it first by using utf-8\n",
    "    # Then, send it to kafka confluent cloud to faker topic\n",
    "    def on_data(self, data):\n",
    "        try:\n",
    "            msg = data.decode('utf-8')\n",
    "            self.producer.produce('faker',value=msg,on_delivery=self.acked)\n",
    "            self.producer.poll(0)\n",
    "            self.producer.flush()\n",
    "            return True\n",
    "        except BaseException as e:\n",
    "            print(\"Error on_data : {}\".format(e))\n",
    "        return True\n",
    "    \n",
    "    # Callback function if any error of the Twitter Streaming API\n",
    "    def on_error(self,status):\n",
    "        print(status)\n",
    "        return True"
   ]
  },
  {
   "cell_type": "code",
   "execution_count": null,
   "metadata": {},
   "outputs": [],
   "source": [
    "mylistener = MyListener(\n",
    "    consumer_key,\n",
    "    consumer_secret,\n",
    "    access_token,\n",
    "    access_token_secret\n",
    ")"
   ]
  },
  {
   "cell_type": "code",
   "execution_count": null,
   "metadata": {},
   "outputs": [],
   "source": [
    "mylistener.startKafkaProducer()"
   ]
  },
  {
   "cell_type": "code",
   "execution_count": null,
   "metadata": {},
   "outputs": [],
   "source": [
    "mylistener.filter(track=[\"bitcoin\",\"usa\",\"ethereum\",\"china\",\"russia\",\"iphone\"])"
   ]
  },
  {
   "cell_type": "code",
   "execution_count": null,
   "metadata": {},
   "outputs": [],
   "source": []
  }
 ],
 "metadata": {
  "kernelspec": {
   "display_name": "Python 3",
   "language": "python",
   "name": "python3"
  },
  "language_info": {
   "codemirror_mode": {
    "name": "ipython",
    "version": 3
   },
   "file_extension": ".py",
   "mimetype": "text/x-python",
   "name": "python",
   "nbconvert_exporter": "python",
   "pygments_lexer": "ipython3",
   "version": "3.7.3"
  }
 },
 "nbformat": 4,
 "nbformat_minor": 4
}
